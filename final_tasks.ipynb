{
 "cells": [
  {
   "cell_type": "markdown",
   "metadata": {},
   "source": [
    "#### Final Task 1"
   ]
  },
  {
   "cell_type": "markdown",
   "metadata": {},
   "source": [
    "A singleton is a class that allows only a single instance of itself to be created and gives access to that created instance. \n",
    "Implement singleton logic inside your custom class using a method to initialize class instance.\n",
    "\n",
    "Example:\n",
    "\n",
    "```python\n",
    ">>> p = Sun.inst()\n",
    ">>> f = Sun.inst()\n",
    ">>> p is f\n",
    "True"
   ]
  },
  {
   "cell_type": "code",
   "execution_count": 1,
   "metadata": {},
   "outputs": [],
   "source": [
    "class Sun:\n",
    "    _instance = None  # Private class attribute to hold the single instance\n",
    "\n",
    "    @classmethod\n",
    "    def inst(cls):\n",
    "        # Check if an instance already exists\n",
    "        if cls._instance is None:\n",
    "            cls._instance = cls()  # Create a new instance\n",
    "        return cls._instance\n",
    "\n",
    "    def __init__(self):\n",
    "        # Prevent creating multiple instances via direct instantiation\n",
    "        if Sun._instance is not None:\n",
    "            raise RuntimeError(\"Use Sun.inst() to get the instance of this class\")"
   ]
  },
  {
   "cell_type": "markdown",
   "metadata": {},
   "source": [
    "#### Final Task 2"
   ]
  },
  {
   "cell_type": "markdown",
   "metadata": {},
   "source": [
    "Implement the keyword encoding and decoding for the Latin alphabet.\n",
    "The keyword cipher uses a keyword to rearrange the letters in the alphabet.\n",
    "You should add the provided keyword at the beginning of the alphabet.\n",
    "A keyword is used as the key, which determines the letter matchings of the cipher alphabet to the plain alphabet. \n",
    "The repeats of letters in the word are removed, then the cipher alphabet is generated with the keyword matching to A, B, C, etc. until the keyword is used up, whereupon the rest of the ciphertext letters are used in alphabetical order, excluding those already used in the key.\n",
    "\n",
    "**Encryption:**\n",
    "\n",
    "*The keyword is \"Crypto\"*\n",
    "\n",
    "* A B C D E F G H I J K L M N O P Q R S T U V W X Y Z\n",
    "* C R Y P T O A B D E F G H I J K L M N Q S U V W X Z\n",
    "\n",
    "\n",
    "\n",
    "**Example:**\n",
    "```python\n",
    ">>> cipher = Cipher(\"crypto\")\n",
    ">>> cipher.encode(\"Hello world\")\n",
    "\"Btggj vjmgp\"\n",
    "\n",
    ">>> cipher.decode(\"Fjedhc dn atidsn\")\n",
    "\"Kojima is genius\"\n",
    "```"
   ]
  },
  {
   "cell_type": "code",
   "execution_count": 2,
   "metadata": {},
   "outputs": [],
   "source": [
    "class Cipher:\n",
    "    def __init__(self, keyword):\n",
    "        self.keyword = keyword.lower()\n",
    "        self.alphabet = 'abcdefghijklmnopqrstuvwxyz'\n",
    "        self.cipher_alphabet = self._create_cipher_alphabet()\n",
    "\n",
    "    def _create_cipher_alphabet(self):\n",
    "        # Remove duplicates in the keyword and preserve the order\n",
    "        unique_keyword = ''.join(sorted(set(self.keyword), key=self.keyword.index))\n",
    "        \n",
    "        # Append the remaining letters of the alphabet, excluding those in the keyword\n",
    "        remaining_letters = ''.join([c for c in self.alphabet if c not in unique_keyword])\n",
    "        \n",
    "        # Combine the keyword and the remaining letters to form the cipher alphabet\n",
    "        return unique_keyword + remaining_letters\n",
    "\n",
    "    def encode(self, text):\n",
    "        return self._transform(text, self.alphabet, self.cipher_alphabet)\n",
    "\n",
    "    def decode(self, text):\n",
    "        return self._transform(text, self.cipher_alphabet, self.alphabet)\n",
    "\n",
    "    def _transform(self, text, source_alphabet, target_alphabet):\n",
    "        # Create a mapping from source to target alphabet\n",
    "        mapping = {source: target for source, target in zip(source_alphabet, target_alphabet)}\n",
    "\n",
    "        # Transform the text based on the mapping\n",
    "        transformed_text = ''\n",
    "        for char in text:\n",
    "            if char.lower() in mapping:\n",
    "                # Preserve case\n",
    "                transformed_char = mapping[char.lower()]\n",
    "                transformed_text += transformed_char.upper() if char.isupper() else transformed_char\n",
    "            else:\n",
    "                # Non-alphabetic characters remain unchanged\n",
    "                transformed_text += char\n",
    "\n",
    "        return transformed_text"
   ]
  }
 ],
 "metadata": {
  "kernelspec": {
   "display_name": "Python 3",
   "language": "python",
   "name": "python3"
  },
  "language_info": {
   "codemirror_mode": {
    "name": "ipython",
    "version": 3
   },
   "file_extension": ".py",
   "mimetype": "text/x-python",
   "name": "python",
   "nbconvert_exporter": "python",
   "pygments_lexer": "ipython3",
   "version": "3.11.5"
  }
 },
 "nbformat": 4,
 "nbformat_minor": 2
}
