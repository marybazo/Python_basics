{
 "cells": [
  {
   "cell_type": "markdown",
   "metadata": {},
   "source": [
    "# Functions"
   ]
  },
  {
   "cell_type": "markdown",
   "metadata": {},
   "source": [
    "#### Arguments. Task 0"
   ]
  },
  {
   "cell_type": "markdown",
   "metadata": {},
   "source": [
    "Implement a function that takes a number as an argument and returns a dictionary, where the key is a number and the value is the square of that number.\n",
    "\n",
    "**Example:**\n",
    "```python\n",
    ">>> generate_squares(5)\n",
    "{1: 1, 2: 4, 3: 9, 4: 16, 5: 25}\n",
    "```"
   ]
  },
  {
   "cell_type": "code",
   "execution_count": 1,
   "metadata": {},
   "outputs": [
    {
     "name": "stdout",
     "output_type": "stream",
     "text": [
      "{1: 1, 2: 4, 3: 9, 4: 16, 5: 25}\n"
     ]
    }
   ],
   "source": [
    "from typing import Dict\n",
    "\n",
    "def generate_squares(num: int)-> Dict[int, int]:\n",
    "    sqr_num = dict()\n",
    "    for n in range(1,num+1):\n",
    "        sqr_num[n] = n**2\n",
    "    return sqr_num\n",
    "\n",
    "print(generate_squares(5))"
   ]
  },
  {
   "cell_type": "markdown",
   "metadata": {},
   "source": [
    "#### Arguments. Task 1"
   ]
  },
  {
   "cell_type": "markdown",
   "metadata": {},
   "source": [
    "We have a list of dictionaries:\n",
    "```python\n",
    "friends = [\n",
    "    {'name': 'Sam', 'gender': 'male', 'sport': 'Basketball'},\n",
    "    {'name': 'Emily', 'gender': 'female', 'sport': 'volleyball'},\n",
    "]\n",
    "```\n",
    "Create functions `query`, `select`, `field_filter` to work with lists similar to \n",
    "`friends`.\n",
    "Stubs for these functions are already created.\n",
    "\n",
    "Example:\n",
    "```python\n",
    ">>> result = query(\n",
    "    friends,\n",
    "    select('name', 'gender', 'sport'),\n",
    "    field_filter('sport', *('Basketball', 'volleyball')),\n",
    "    field_filter('gender', *('male',)),\n",
    ")\n",
    ">>> result\n",
    "[{'gender': 'male', 'name': 'Sam', 'sport': 'Basketball'}]\n",
    "```\n",
    "These functions have to provide with possibility to select necessary columns\n",
    "and make filtering by these columns\n",
    "\n",
    "Do not forget the documentation for each function!"
   ]
  },
  {
   "cell_type": "code",
   "execution_count": 2,
   "metadata": {},
   "outputs": [],
   "source": [
    "from typing import Dict, Any, Callable, Iterable\n",
    "\n",
    "DataType = Iterable[Dict[str, Any]]\n",
    "ModifierFunc = Callable[[DataType], DataType]\n",
    "\n",
    "\n",
    "def query(data: DataType, selector: ModifierFunc,\n",
    "          *filters: ModifierFunc) -> DataType:\n",
    "    \"\"\"\n",
    "    Query data with column selection and filters\n",
    "\n",
    "    :param data: List of dictionaries with columns and values\n",
    "    :param selector: result of `select` function call\n",
    "    :param filters: Any number of results of `field_filter` function calls\n",
    "    :return: Filtered data\n",
    "    \"\"\"\n",
    "    # get only column to select\n",
    "    result = [selector(row) for row in data] \n",
    "\n",
    "    # filter data acording to filters\n",
    "    for row_filter in filters:\n",
    "       result = [row for row in result if row_filter(row) != None]\n",
    "\n",
    "    return result\n",
    "\n",
    "\n",
    "def select(*columns: str) -> ModifierFunc:\n",
    "    \"\"\"Return function that selects only specific columns from dataset\"\"\"\n",
    "    return lambda row_dict: {col: row_dict.get(col) for col in columns}\n",
    "\n",
    "\n",
    "def field_filter(column: str, *values: Any) -> ModifierFunc:\n",
    "    \"\"\"Return function that filters specific column to be one of `values`\"\"\"\n",
    "    return lambda row_dict: row_dict if row_dict.get(column) in values else None\n",
    "\n",
    "\n",
    "def test_query():\n",
    "    friends = [\n",
    "        {'name': 'Sam', 'gender': 'male', 'sport': 'Basketball'}\n",
    "    ]\n",
    "    value = query(\n",
    "        friends,\n",
    "        select(*('name', 'gender', 'sport')),\n",
    "        field_filter(*('sport', *('Basketball', 'volleyball'))),\n",
    "        field_filter(*('gender', *('male',))),\n",
    "    )\n",
    "    assert [{'gender': 'male', 'name': 'Sam', 'sport': 'Basketball'}] == value\n",
    "\n",
    "\n",
    "if __name__ == \"__main__\":\n",
    "    test_query() "
   ]
  },
  {
   "cell_type": "markdown",
   "metadata": {},
   "source": [
    "#### Arguments. Task 2"
   ]
  },
  {
   "cell_type": "markdown",
   "metadata": {},
   "source": [
    "Create generic `union` and `intersect` functions to work with sets.\n",
    "The functions must accept an arbitrary number of arguments of different types: `list`, `tuple`, `set`.\n",
    "Each function must return value of `set` type.\n",
    "For example:\n",
    "```python\n",
    ">>> union(('S', 'A', 'M'), ['S', 'P', 'A', 'C'])\n",
    "{'S', 'P', 'A', 'M', 'C'}\n",
    "\n",
    ">>> intersect(('S', 'A', 'C'), ('P', 'C', 'S'), ('G', 'H', 'S', 'C'))\n",
    "{'S', 'C'}\n",
    "```"
   ]
  },
  {
   "cell_type": "code",
   "execution_count": 3,
   "metadata": {},
   "outputs": [],
   "source": [
    "def union(*args) -> set:\n",
    "    set_list = [set(a) for a in args]\n",
    "    result = set.union(*set_list)\n",
    "    return result\n",
    "\n",
    "\n",
    "def intersect(*args) -> set:\n",
    "    set_list = [set(a) for a in args]\n",
    "    result = set.intersection(*set_list)\n",
    "    return result"
   ]
  },
  {
   "cell_type": "markdown",
   "metadata": {},
   "source": [
    "#### Arguments. Task 3"
   ]
  },
  {
   "cell_type": "markdown",
   "metadata": {},
   "source": [
    "Implement a function, that receives changeable number of dictionaries (keys - letters, values - numbers) and combines them into one dictionary.\n",
    "Dict values should be summarized in case of identical keys\n",
    "\n",
    "```python\n",
    "def combine_dicts(*args):\n",
    "    ...\n",
    "\n",
    "dict_1 = {'a': 100, 'b': 200}\n",
    "dict_2 = {'a': 200, 'c': 300}\n",
    "dict_3 = {'a': 300, 'd': 100}\n",
    "\n",
    "print(combine_dicts(dict_1, dict_2))\n",
    ">>> {'a': 300, 'b': 200, 'c': 300}\n",
    "\n",
    "print(combine_dicts(dict_1, dict_2, dict_3))\n",
    ">>> {'a': 600, 'b': 200, 'c': 300, 'd': 100}"
   ]
  },
  {
   "cell_type": "code",
   "execution_count": 4,
   "metadata": {},
   "outputs": [
    {
     "name": "stdout",
     "output_type": "stream",
     "text": [
      "True\n",
      "True\n"
     ]
    }
   ],
   "source": [
    "from typing import Dict\n",
    "\n",
    "def combine_dicts(*args:Dict[str, int]) -> Dict[str, int]:\n",
    "    result = dict()\n",
    "    for a in args:\n",
    "        for k,v in a.items():\n",
    "            new_v = v + (result.get(k) if result.get(k) != None else 0)\n",
    "            result.update({k:new_v})\n",
    "    return result\n",
    "\n",
    "# Test\n",
    "dict_1 = {'a': 100, 'b': 200}\n",
    "dict_2 = {'a': 200, 'c': 300}\n",
    "dict_3 = {'a': 300, 'd': 100}\n",
    "\n",
    "print(combine_dicts(dict_1, dict_2) == {'a': 300, 'b': 200, 'c': 300})\n",
    "print(combine_dicts(dict_1, dict_2, dict_3) == {'a': 600, 'b': 200, 'c': 300, 'd': 100})"
   ]
  },
  {
   "cell_type": "markdown",
   "metadata": {},
   "source": [
    "#### Recursions. Task 1"
   ]
  },
  {
   "cell_type": "markdown",
   "metadata": {},
   "source": [
    "Define a function `seq_sum(sequence)` which allows to count sum of elements. Elements of all nested sequences should be included.\n",
    "\n",
    "Example:\n",
    "```python\n",
    "def seq_sum(sequence):\n",
    "    pass\n",
    "  \n",
    "sequence = [1,2,3,[4,5, (6,7)]]\n",
    "\n",
    ">>> print(seq_sum(sequence))\n",
    "28"
   ]
  },
  {
   "cell_type": "code",
   "execution_count": 5,
   "metadata": {},
   "outputs": [],
   "source": [
    "from typing import List, Tuple, Union\n",
    "\n",
    "\n",
    "def seq_sum(sequence: Union[List, Tuple]) -> int:\n",
    "    sum = 0\n",
    "    for s in sequence:\n",
    "        if type(s) == type(1):\n",
    "            sum += s\n",
    "        else:\n",
    "            sum += seq_sum(s)\n",
    "    return sum"
   ]
  },
  {
   "cell_type": "markdown",
   "metadata": {},
   "source": [
    "#### Recursions. Task 2"
   ]
  },
  {
   "cell_type": "markdown",
   "metadata": {},
   "source": [
    "Define a function `linear_seq(sequence)` which converts a passed sequence to a sequence without nested sequences.\n",
    "\n",
    "Example:\n",
    "```python\n",
    "def linear_seq(sequence):\n",
    "    pass\n",
    "  \n",
    "sequence = [1,2,3,[4,5, (6,7)]]\n",
    "\n",
    ">>> print(linear_seq(sequence))\n",
    "[1,2,3,4,5,6,7]\n",
    "```"
   ]
  },
  {
   "cell_type": "code",
   "execution_count": 6,
   "metadata": {},
   "outputs": [
    {
     "name": "stdout",
     "output_type": "stream",
     "text": [
      "True\n"
     ]
    }
   ],
   "source": [
    "from typing import Any, List\n",
    "\n",
    "def linear_seq(sequence: List[Any]) -> List[Any]:\n",
    "    result = list()\n",
    "    for s in sequence:\n",
    "        if type(s) == type(1):\n",
    "            result.append(s)\n",
    "        else:\n",
    "            result.extend(linear_seq(s))\n",
    "    return result\n",
    "\n",
    "# Test\n",
    "sequence = [1,2,3,[4,5, (6,7)]]\n",
    "print(linear_seq(sequence) == [1,2,3,4,5,6,7])"
   ]
  },
  {
   "cell_type": "markdown",
   "metadata": {},
   "source": [
    "#### Decorators. Task 1"
   ]
  },
  {
   "cell_type": "markdown",
   "metadata": {},
   "source": [
    "Create a decorator function `time_decorator` which has to calculate decorated function execution time\n",
    "and put this time value to `execution_time` dictionary where `key` is \n",
    "decorated function name and `value` is this function execution time.\n",
    "For example:\n",
    "```python\n",
    "@time_decorator\n",
    "def func_add(a, b):\n",
    "    sleep(0.2)\n",
    "    return a + b\n",
    "\n",
    ">>> func_add(10, 20)\n",
    "30\n",
    "\n",
    ">>> execution_time['func_add']\n",
    "0.212341254\n",
    "```"
   ]
  },
  {
   "cell_type": "code",
   "execution_count": 7,
   "metadata": {},
   "outputs": [],
   "source": [
    "from typing import Dict\n",
    "import time\n",
    "\n",
    "execution_time: Dict[str, float] = {}\n",
    "\n",
    "def time_decorator(fn):\n",
    "    \"\"\"\n",
    "    Calculate decorated function execution time\n",
    "    and put this time value to `execution_time` dictionary where `key` is\n",
    "    decorated function name and `value` is this function execution time.\n",
    "    \"\"\"\n",
    "    def wrapper(a, b, sleep_time = 0):\n",
    "        start_time = time.time()\n",
    "        c = fn(a, b, sleep_time)\n",
    "        end_time = time.time()\n",
    "        execution_time[fn.__name__] = end_time - start_time\n",
    "        return c\n",
    "    \n",
    "    return wrapper"
   ]
  },
  {
   "cell_type": "markdown",
   "metadata": {},
   "source": [
    "#### Decorators. Task 2"
   ]
  },
  {
   "cell_type": "markdown",
   "metadata": {},
   "source": [
    "Write a decorator which logs information about calls of decorated function,\n",
    "values of its arguments, values of keyword arguments and execution time. Log\n",
    "should be written to a file.\n",
    "\n",
    "### Example of using\n",
    "``` python\n",
    "@log\n",
    "def foo(a, b, c):\n",
    "    ...\n",
    "\n",
    "foo(1, 2, c=3)\n",
    "```\n",
    "\n",
    "### log.txt\n",
    "```\n",
    "...\n",
    "foo; args: a=1, b=2; kwargs: c=3; execution time: 0.12 sec.\n",
    "...\n",
    "```"
   ]
  },
  {
   "cell_type": "code",
   "execution_count": 8,
   "metadata": {},
   "outputs": [
    {
     "name": "stdout",
     "output_type": "stream",
     "text": [
      "6\n"
     ]
    }
   ],
   "source": [
    "from time import time\n",
    "\n",
    "log_file = 'log.txt'\n",
    "\n",
    "def log(fn):\n",
    "    def wrapper(*args, **kwargs):\n",
    "        start_time = time()\n",
    "        res = fn(*args, **kwargs)\n",
    "        end_time = time()\n",
    "\n",
    "        letters = 'abcdefghigklmnopqrstuvwxyz'\n",
    "        letter_count = 0\n",
    "        args_str = ''\n",
    "        for a in args:\n",
    "            if letter_count == len(letters):\n",
    "                letter_count = 0\n",
    "            args_str += f' {letters[letter_count]}={a},'\n",
    "            letter_count +=1\n",
    "\n",
    "        kwargs_str = ''\n",
    "        for k,v in kwargs.items():\n",
    "            kwargs_str += f' {k}={v},'\n",
    "       \n",
    "        \n",
    "        with open(log_file, 'a') as file:\n",
    "            file.write(f'{fn.__name__}; args:{args_str[:-1]}; kwargs:{kwargs_str[:-1]}; execution time: {round(end_time - start_time, 2)} sec.\\n')\n",
    "\n",
    "        return res\n",
    "    return wrapper\n",
    "\n",
    "@log\n",
    "def foo(a, b, c):\n",
    "    return a+b+c\n",
    "\n",
    "print(foo(1, 2, c=3))\n",
    "#foo; args: (1, 2); kwargs: {'c': 3}; execution time: 0.0 \n",
    "### log.txt\n",
    "#foo; args: a=1, b=2; kwargs: c=3; execution time: 0.12 sec.\n",
    "#foo; args: a=1, b=2; kwargs: c=3; execution time: 0.0 sec."
   ]
  },
  {
   "cell_type": "markdown",
   "metadata": {},
   "source": [
    "#### Decorators. Task 3"
   ]
  },
  {
   "cell_type": "markdown",
   "metadata": {},
   "source": [
    "Create decorator `validate` which validates arguments in `set_pixel` function. All function parameters should be between 0(int) and 256(int) inclusive.\n",
    "\n",
    "In case if all parameters are valid, `set_pixel` function should return _\"Pixel created!\"_ message. Otherwise, it should return _\"Function call is not valid!\"_ message.\n",
    "\n",
    "Use `functools.wraps` where is it necessary.\n",
    "\n",
    "Don't forget about doc stings.\n",
    "\n",
    "__Examples__\n",
    "```python\n",
    ">>> set_pixel(0, 127, 300)\n",
    "Function call is not valid!\n",
    ">>> set_pixel(0,127,250)\n",
    "Pixel created!\n",
    "```"
   ]
  },
  {
   "cell_type": "code",
   "execution_count": 9,
   "metadata": {},
   "outputs": [
    {
     "name": "stdout",
     "output_type": "stream",
     "text": [
      "Function call is not valid!\n",
      "Pixel created!\n"
     ]
    }
   ],
   "source": [
    "\n",
    "def validate(fn):\n",
    "  '''\n",
    "  Parameters of function should be between 0(int) and 256(int) inclusive \n",
    "  '''\n",
    "  def wrapper(x, y, z):\n",
    "    limit_px = (0, 256) \n",
    "    if (limit_px[1] >= x >= limit_px[0]) \\\n",
    "      and (limit_px[1] >= y >= limit_px[0]) \\\n",
    "      and (limit_px[1] >= z >= limit_px[0]):\n",
    "      return fn(x, y, z)\n",
    "    else:\n",
    "      return 'Function call is not valid!' \n",
    "\n",
    "  return wrapper \n",
    "\n",
    "@validate\n",
    "def set_pixel(x: int, y: int, z: int) -> str:\n",
    "  return \"Pixel created!\"\n",
    "\n",
    "\n",
    "print(set_pixel(0, 127, 300))\n",
    "#'Function call is not valid!'\n",
    "print(set_pixel(0,127,250))\n",
    "#'Pixel created!'"
   ]
  },
  {
   "cell_type": "markdown",
   "metadata": {},
   "source": [
    "#### Decorators. Task 4"
   ]
  },
  {
   "cell_type": "markdown",
   "metadata": {},
   "source": [
    "Create a decorators factory (decorator itself). The factory accepts a function (lambda) as an input and returns a decorator that will return the result of the function as the first argument, the result of the decorated function is passed. The function which the factory accepts (in the example below it is a lambda) can take one positional parameter only.\n",
    "\n",
    "For example:\n",
    "```python\n",
    ">>> @decorator_apply(lambda user_id: user_id + 1)\n",
    ">>> def return_user_id(num: int): \n",
    "        return num\n",
    ">>> return_user_id(42) \n",
    ">>> 43\n",
    "```"
   ]
  },
  {
   "cell_type": "code",
   "execution_count": 10,
   "metadata": {},
   "outputs": [
    {
     "name": "stdout",
     "output_type": "stream",
     "text": [
      "43\n"
     ]
    }
   ],
   "source": [
    "\n",
    "def decorator_apply(lambda_func):\n",
    "    '''\n",
    "    Apply lambda function to original function.\n",
    "    '''\n",
    "    def decorator(funk):\n",
    "        def wrapper(x: int):\n",
    "            res = funk(x)\n",
    "            return lambda_func(res)\n",
    "\n",
    "        return wrapper\n",
    "    return decorator\n",
    "\n",
    "\n",
    "@decorator_apply(lambda user_id: user_id + 1)\n",
    "def return_user_id(num: int) ->int:\n",
    "    return num\n",
    "\n",
    "print(return_user_id(42)) # 43"
   ]
  },
  {
   "cell_type": "markdown",
   "metadata": {},
   "source": [
    "#### Final Task 1"
   ]
  },
  {
   "cell_type": "markdown",
   "metadata": {},
   "source": [
    "Implement a function that works the same as `str.split` method\n",
    "(without using `str.split` itself, ofcourse).\n",
    "Pay attention to strings with multiple spaces. For example: '    Hi     Python    world!' \n",
    "\n",
    "Example:\n",
    "```python\n",
    "    def split(data: str, sep=None, maxsplit=-1):\n",
    "        ..."
   ]
  },
  {
   "cell_type": "code",
   "execution_count": 11,
   "metadata": {},
   "outputs": [],
   "source": [
    "from typing import List\n",
    "\n",
    "def split(data: str, sep=' ', maxsplit=-1):\n",
    "    \"\"\"\n",
    "    Implement a function that works the same as `str.split` method  \n",
    "    \"\"\"\n",
    "    if len(data) == 0:\n",
    "        return[]\n",
    "\n",
    "    split_list = list()\n",
    "    new_str = ''\n",
    "    sep_end = 0\n",
    "    i = 0\n",
    "    for l_index, letter in enumerate(data):\n",
    "        if sep_end != 0:\n",
    "            sep_end -= 1\n",
    "            continue\n",
    "\n",
    "        if len(sep) > 1 and letter == sep[0]:   \n",
    "            if sep == data[l_index:l_index + len(sep)]:\n",
    "                split_list.append(new_str)\n",
    "                i += 1\n",
    "                new_str = ''\n",
    "                sep_end = len(sep) - 1 \n",
    "                continue\n",
    "\n",
    "        if letter != sep:\n",
    "            new_str += letter\n",
    "\n",
    "            if i == maxsplit:\n",
    "                new_str = data[l_index:] \n",
    "                break   \n",
    "        else:\n",
    "            if new_str != '' or sep != ' ':\n",
    "                split_list.append(new_str)\n",
    "                new_str = ''\n",
    "                i +=1\n",
    "    \n",
    "    # if separetor is last symbol\n",
    "    if sep == data[-1] and sep != ' ':\n",
    "        split_list.append('')\n",
    "\n",
    "    if new_str != '':\n",
    "        split_list.append(new_str)\n",
    "\n",
    "    return split_list\n",
    "\n",
    "if __name__ == '__main__':\n",
    "    assert split('') == []\n",
    "    assert split(',123,', sep=',') == ['', '123', '']\n",
    "    assert split('test') == ['test']\n",
    "    assert split('Python    2     3', maxsplit=1) == ['Python', '2     3']\n",
    "    assert split('    test     6    7', maxsplit=1) == ['test', '6    7']\n",
    "    assert split('    Hi     8    9', maxsplit=0) == ['Hi     8    9']\n",
    "    assert split('    set   3     4') == ['set', '3', '4']\n",
    "    assert split('set;:23', sep=';:', maxsplit=0) == ['set;:23']\n",
    "    assert split('set;:;:23', sep=';:', maxsplit=2) == ['set', '', '23']\n",
    "    assert split('adf<>5asdf<>aasdf', maxsplit=1, sep='<>')  == ['adf', '5asdf<>aasdf']\n",
    "    assert split('asdf,asdfasdf,asdf,asd', maxsplit=2, sep=',') == ['asdf', 'asdfasdf', 'asdf,asd']"
   ]
  },
  {
   "cell_type": "markdown",
   "metadata": {},
   "source": [
    "#### Final task 2"
   ]
  },
  {
   "cell_type": "markdown",
   "metadata": {},
   "source": [
    "Implement a function `split_by_index(s: str, indexes: List[int]) -> List[str]`\n",
    "which splits the `s` string by indexes specified in `indexes`. Wrong indexes\n",
    "must be ignored.\n",
    "Examples:\n",
    "```python\n",
    ">>> split_by_index(\"pythoniscool,isn'tit?\", [6, 8, 12, 13, 18])\n",
    "[\"python\", \"is\", \"cool\", \",\", \"isn't\", \"it?\"]\n",
    "\n",
    ">>> split_by_index(\"no luck\", [42])\n",
    "[\"no luck\"]\n",
    "```"
   ]
  },
  {
   "cell_type": "code",
   "execution_count": 12,
   "metadata": {},
   "outputs": [
    {
     "name": "stdout",
     "output_type": "stream",
     "text": [
      "True\n",
      "True\n"
     ]
    }
   ],
   "source": [
    "from typing import List\n",
    "\n",
    "def split_by_index(s: str, indexes: List[int]) -> List[str]:\n",
    "    \"\"\"\n",
    "    Splits the `s` string by indexes specified in `indexes`. Wrong indexes\n",
    "    is ignored.  \n",
    "    \"\"\"\n",
    "    split_list = list()\n",
    "    for i_index, i in enumerate(indexes):\n",
    "        if 0 < i > len(s) : # not relavant index\n",
    "            continue\n",
    "\n",
    "        if not i_index:\n",
    "            begin = 0\n",
    "        else:\n",
    "            begin = indexes[i_index - 1] \n",
    "        \n",
    "        split_list.append(s[begin:i]) \n",
    "\n",
    "    if not len(split_list):\n",
    "        split_list.append(s) # if no relavant indexes\n",
    "    else:\n",
    "        split_list.append(s[indexes[-1]:]) #last piece of text\n",
    "\n",
    "    return split_list\n",
    "\n",
    "\n",
    "a = split_by_index(\"pythoniscool,isn'tit?\", [6, 8, 12, 13, 18])\n",
    "print( a == [\"python\", \"is\", \"cool\", \",\", \"isn't\", \"it?\"])\n",
    "\n",
    "b = split_by_index(\"no luck\", [42])\n",
    "print(b == [\"no luck\"])"
   ]
  }
 ],
 "metadata": {
  "kernelspec": {
   "display_name": "Python 3",
   "language": "python",
   "name": "python3"
  },
  "language_info": {
   "codemirror_mode": {
    "name": "ipython",
    "version": 3
   },
   "file_extension": ".py",
   "mimetype": "text/x-python",
   "name": "python",
   "nbconvert_exporter": "python",
   "pygments_lexer": "ipython3",
   "version": "3.11.5"
  }
 },
 "nbformat": 4,
 "nbformat_minor": 2
}
