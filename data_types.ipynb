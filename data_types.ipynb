{
 "cells": [
  {
   "cell_type": "markdown",
   "metadata": {},
   "source": [
    "# Data Types"
   ]
  },
  {
   "cell_type": "markdown",
   "metadata": {},
   "source": [
    "#### Dictionaries. Task 1."
   ]
  },
  {
   "cell_type": "markdown",
   "metadata": {},
   "source": [
    "Write a Python program to count the frequency of each character in a string (ignore the case of letters).\n",
    "\n",
    "__Example:__\n",
    "\n",
    "Input: `'Oh, it is python'`\n",
    "\n",
    "Output: `{\" \": 3, \",\": 1, \"h\": 2, \"i\": 2, \"n\": 1, \"o\": 2, \"p\": 1, \"s\": 1, \"t\": 2, \"y\": 1}`"
   ]
  },
  {
   "cell_type": "code",
   "execution_count": 1,
   "metadata": {},
   "outputs": [],
   "source": [
    "from typing import Dict\n",
    "\n",
    "def get_dict(s: str) -> Dict[str, int]:\n",
    "    s = s.lower()\n",
    "    character_count = dict()\n",
    "    while len(s) != 0:\n",
    "        character_count[s[0]] = s.count(s[0])\n",
    "        s = str.replace(s, s[0], '')\n",
    "    \n",
    "    return character_count"
   ]
  },
  {
   "cell_type": "code",
   "execution_count": 2,
   "metadata": {},
   "outputs": [
    {
     "data": {
      "text/plain": [
       "True"
      ]
     },
     "execution_count": 2,
     "metadata": {},
     "output_type": "execute_result"
    }
   ],
   "source": [
    "\n",
    "get_dict('Oh, it is python') == {\" \": 3, \n",
    "                                 \",\": 1, \n",
    "                                 \"h\": 2, \n",
    "                                 \"i\": 2, \n",
    "                                 \"n\": 1, \n",
    "                                 \"o\": 2, \n",
    "                                 \"p\": 1, \n",
    "                                 \"s\": 1, \n",
    "                                 \"t\": 2, \n",
    "                                 \"y\": 1}"
   ]
  },
  {
   "cell_type": "markdown",
   "metadata": {},
   "source": [
    "#### Lists. Task 1"
   ]
  },
  {
   "cell_type": "markdown",
   "metadata": {},
   "source": [
    "Write a Python program that accepts a sequence of words as input and prints the unique words in a sorted form.\n",
    "\n",
    "__Examples:__\n",
    "\n",
    "Input:\n",
    "```python \n",
    "('red', 'white', 'black', 'red', 'green', 'black') \n",
    "```\n",
    "Output: \n",
    "```python \n",
    "['black', 'green', 'red', 'white']\n",
    "```"
   ]
  },
  {
   "cell_type": "code",
   "execution_count": 3,
   "metadata": {},
   "outputs": [],
   "source": [
    "from typing import List, Tuple\n",
    "\n",
    "def sort_unique_elements(str_list: Tuple[str]) -> List[str]:\n",
    "    return sorted(list(set(str_list)))"
   ]
  },
  {
   "cell_type": "code",
   "execution_count": 4,
   "metadata": {},
   "outputs": [
    {
     "data": {
      "text/plain": [
       "['black', 'green', 'red', 'white']"
      ]
     },
     "execution_count": 4,
     "metadata": {},
     "output_type": "execute_result"
    }
   ],
   "source": [
    "sort_unique_elements(('red', 'white', 'black', 'red', 'green', 'black'))"
   ]
  },
  {
   "cell_type": "markdown",
   "metadata": {},
   "source": [
    "#### Lists. Task 2"
   ]
  },
  {
   "cell_type": "markdown",
   "metadata": {},
   "source": [
    "Update the __get_fizzbuzz_list__ function. The function has to generate and return a list with numbers from _1_ to _n_ inclusive where the _n_ is passed as a parameter to the function. But if the number is divided by _3_ the function puts a _Fizz_ word into the list, and if the number is divided by _5_ the function puts a _Buzz_ word into the list. If the number is divided by both _3_ and _5_ the function puts _FizzBuzz_ into the list."
   ]
  },
  {
   "cell_type": "code",
   "execution_count": 5,
   "metadata": {},
   "outputs": [],
   "source": [
    "from typing import Union, List\n",
    "\n",
    "ListType = List[Union[int, str]]\n",
    "\n",
    "\n",
    "def get_fizzbuzz_list(n: int) -> ListType:\n",
    "    fizzbuzz_list = list()\n",
    "    for i in range(1,n+1):\n",
    "        text = ''\n",
    "        if i%3 == 0:\n",
    "            text += 'Fizz'\n",
    "        if i%5 == 0:\n",
    "            text += 'Buzz'\n",
    "        fizzbuzz_list.append(i if text == '' else text)\n",
    "\n",
    "    return fizzbuzz_list"
   ]
  },
  {
   "cell_type": "code",
   "execution_count": 6,
   "metadata": {},
   "outputs": [
    {
     "data": {
      "text/plain": [
       "[1, 2, 'Fizz', 4, 'Buzz']"
      ]
     },
     "execution_count": 6,
     "metadata": {},
     "output_type": "execute_result"
    }
   ],
   "source": [
    "get_fizzbuzz_list(5)"
   ]
  },
  {
   "cell_type": "markdown",
   "metadata": {},
   "source": [
    "#### Lists. Task 3"
   ]
  },
  {
   "cell_type": "markdown",
   "metadata": {},
   "source": [
    "Implement a function `foo(List[int]) -> List[int]` which, given a list of\n",
    "integers, returns a new list such that each element at index `i` of the new list\n",
    "is the product of all the numbers in the original array except the one at `i`.\n",
    "\n",
    "__Example:__\n",
    "```python\n",
    ">>> foo([1, 2, 3, 4, 5])\n",
    "[120, 60, 40, 30, 24]\n",
    ">>>foo([3, 2, 1])\n",
    "[2, 3, 6]\n",
    "```"
   ]
  },
  {
   "cell_type": "code",
   "execution_count": 7,
   "metadata": {},
   "outputs": [],
   "source": [
    "from typing import List\n",
    "from math import prod\n",
    "\n",
    "\n",
    "def foo(nums: List[int]) -> List[int]:\n",
    "    nums_product = [prod(nums[:i] + nums[i+1:]) for i in range(len(nums))]\n",
    "\n",
    "    return nums_product"
   ]
  },
  {
   "cell_type": "code",
   "execution_count": 8,
   "metadata": {},
   "outputs": [
    {
     "data": {
      "text/plain": [
       "[120, 60, 40, 30, 24]"
      ]
     },
     "execution_count": 8,
     "metadata": {},
     "output_type": "execute_result"
    }
   ],
   "source": [
    "foo([1, 2, 3, 4, 5])"
   ]
  },
  {
   "cell_type": "markdown",
   "metadata": {},
   "source": [
    "#### Numbers. Task 1"
   ]
  },
  {
   "cell_type": "markdown",
   "metadata": {},
   "source": [
    "Create a function with two parameters `a` and `b`. The function calculates the following expression:\n",
    "```python\n",
    "(12 * a + 25 * b) / (1 + a**(2**b))\t\n",
    "```\n",
    "and returns a result of the expression rounded up to the second decimal place."
   ]
  },
  {
   "cell_type": "code",
   "execution_count": 9,
   "metadata": {},
   "outputs": [],
   "source": [
    "from typing import Union\n",
    "\n",
    "NumType = Union[int, float]\n",
    "\n",
    "def some_expression_with_rounding(a: NumType, b: NumType) -> NumType:\n",
    "  result = None\n",
    "\n",
    "  result = round((12 * a + 25 * b) / (1 + a**(2**b)), 2)\n",
    "  \n",
    "  return result"
   ]
  },
  {
   "cell_type": "markdown",
   "metadata": {},
   "source": [
    "#### Strings. Task 1"
   ]
  },
  {
   "cell_type": "markdown",
   "metadata": {},
   "source": [
    "Create a function that takes two parameters of string type which are fractions with the same denominator and returns a sum expression of these fractions and the sum result. \n",
    "\n",
    "__For example:__\n",
    "```python\n",
    ">>> a_b = '1/3'\n",
    ">>> c_b = '5/3'\n",
    ">>> get_fractions(a_b, c_b)\n",
    "'1/3 + 5/3 = 6/3'\n",
    "```"
   ]
  },
  {
   "cell_type": "code",
   "execution_count": 10,
   "metadata": {},
   "outputs": [],
   "source": [
    "def get_fractions(a_b: str, c_b: str) -> str:\n",
    "    ab = a_b.split('/')\n",
    "    cb = c_b.split('/')\n",
    "\n",
    "    if ab[1] != cb[1]:\n",
    "        return 'Error: different bottom numbers'\n",
    "    \n",
    "    try:\n",
    "        a = int(ab[0])\n",
    "        b = int(ab[1])\n",
    "        c = int(cb[0])\n",
    "    except TypeError:\n",
    "        return 'Error: type error, check input'\n",
    "\n",
    "    return f'{a_b} + {c_b} = {a+c}/{b}'"
   ]
  },
  {
   "cell_type": "code",
   "execution_count": 11,
   "metadata": {},
   "outputs": [
    {
     "name": "stdout",
     "output_type": "stream",
     "text": [
      "1/3 + 5/3 = 6/3\n"
     ]
    }
   ],
   "source": [
    "a_b = '1/3'\n",
    "c_b = '5/3'\n",
    "print(get_fractions(a_b, c_b))"
   ]
  },
  {
   "cell_type": "markdown",
   "metadata": {},
   "source": [
    "#### Strings. Task 2\n"
   ]
  },
  {
   "cell_type": "markdown",
   "metadata": {},
   "source": [
    "Implement a function `get_longest_word(s: str) -> str` which returns the longest word in the given string. The word can contain any symbols except whitespaces (' ', '\\n', '\\t' and so on). If there are multiple longest words in the string with the same length return the word that occurs first.\n",
    "\n",
    "__Example:__\n",
    "\n",
    "```python\n",
    ">>> get_longest_word('Python is simple and effective!')\n",
    "'effective!'\n",
    "```"
   ]
  },
  {
   "cell_type": "code",
   "execution_count": 12,
   "metadata": {},
   "outputs": [],
   "source": [
    "def get_longest_word( s: str) -> str:\n",
    "    words = s.lower().split()\n",
    "    w_len = [len(x) for x in words]\n",
    "    max_len = max(w_len)\n",
    "\n",
    "    return words[w_len.index(max_len)]"
   ]
  },
  {
   "cell_type": "code",
   "execution_count": 13,
   "metadata": {},
   "outputs": [
    {
     "data": {
      "text/plain": [
       "'effective!'"
      ]
     },
     "execution_count": 13,
     "metadata": {},
     "output_type": "execute_result"
    }
   ],
   "source": [
    "get_longest_word('Python is simple and effective!')"
   ]
  },
  {
   "cell_type": "markdown",
   "metadata": {},
   "source": [
    "#### Strings. Task 3\n"
   ]
  },
  {
   "cell_type": "markdown",
   "metadata": {},
   "source": [
    "Implement a function that receives a string and replaces all `\"` symbols\n",
    "with `'` and vice versa."
   ]
  },
  {
   "cell_type": "code",
   "execution_count": 14,
   "metadata": {},
   "outputs": [],
   "source": [
    "def replacer(s: str) -> str:\n",
    "    new_s = ''\n",
    "    for letter in s:\n",
    "        if letter == '\\'':\n",
    "            new_s += '\"'\n",
    "        elif letter == '\"':\n",
    "            new_s+= '\\''\n",
    "        else:\n",
    "            new_s += letter        \n",
    "    return new_s"
   ]
  },
  {
   "cell_type": "code",
   "execution_count": 15,
   "metadata": {},
   "outputs": [
    {
     "name": "stdout",
     "output_type": "stream",
     "text": [
      "'a' \"b\"\n"
     ]
    }
   ],
   "source": [
    "print(replacer('\"a\" \\'b\\''))"
   ]
  },
  {
   "cell_type": "markdown",
   "metadata": {},
   "source": [
    "#### Strings. Task 4\n"
   ]
  },
  {
   "cell_type": "markdown",
   "metadata": {},
   "source": [
    "Write a function that checks whether a string is a palindrome or not. The usage of\n",
    "any reversing functions is prohibited.\n",
    " \n",
    "To check your implementation you can use\n",
    "strings from [here](https://en.wikipedia.org/wiki/Palindrome#Famous_palindromes)"
   ]
  },
  {
   "cell_type": "code",
   "execution_count": 16,
   "metadata": {},
   "outputs": [],
   "source": [
    "def check_str(s: str):\n",
    "    s = s.lower().replace(' ', '')\n",
    "    text = ''\n",
    "    for i in range(len(s)):\n",
    "        if s[i] in 'abcdefghijklmnopqrstuvwxyz1234567890':\n",
    "            text += s[i]\n",
    "        \n",
    "    return text == text[::-1]"
   ]
  },
  {
   "cell_type": "code",
   "execution_count": 17,
   "metadata": {},
   "outputs": [
    {
     "data": {
      "text/plain": [
       "True"
      ]
     },
     "execution_count": 17,
     "metadata": {},
     "output_type": "execute_result"
    }
   ],
   "source": [
    "check_str('ada')"
   ]
  },
  {
   "cell_type": "markdown",
   "metadata": {},
   "source": [
    "#### Tuples. Task 1\n"
   ]
  },
  {
   "cell_type": "markdown",
   "metadata": {},
   "source": [
    "Implement a function `get_tuple(num: int) -> Tuple[int]` which returns a tuple of a given integer's digits.\n",
    "\n",
    "__Example:__\n",
    "```python\n",
    ">>> get_tuple(87178291199)\n",
    "(8, 7, 1, 7, 8, 2, 9, 1, 1, 9, 9)\n",
    "```"
   ]
  },
  {
   "cell_type": "code",
   "execution_count": 18,
   "metadata": {},
   "outputs": [],
   "source": [
    "from typing import Tuple\n",
    "\n",
    "def get_tuple(num: int) -> Tuple[int]:\n",
    "    return tuple([int(n) for n in str(num)])"
   ]
  },
  {
   "cell_type": "code",
   "execution_count": 19,
   "metadata": {},
   "outputs": [
    {
     "data": {
      "text/plain": [
       "(8, 7, 1, 7, 8, 2, 9, 1, 1, 9, 9)"
      ]
     },
     "execution_count": 19,
     "metadata": {},
     "output_type": "execute_result"
    }
   ],
   "source": [
    "get_tuple(87178291199)"
   ]
  },
  {
   "cell_type": "markdown",
   "metadata": {},
   "source": [
    "#### Tuples. Task 2"
   ]
  },
  {
   "cell_type": "markdown",
   "metadata": {},
   "source": [
    "Implement a function `get_pairs(lst: List) -> List[Tuple]` which returns a list\n",
    "of tuples containing pairs of elements. The pairs should be formed as in the\n",
    "example. If there is only one element in the list, return `[]` instead.\n",
    "\n",
    "__Example:__\n",
    "```python\n",
    ">>> get_pairs([1, 2, 3, 8, 9])\n",
    "[(1, 2), (2, 3), (3, 8), (8, 9)]\n",
    ">>> get_pairs(['need', 'to', 'sleep', 'more'])\n",
    "[('need', 'to'), ('to', 'sleep'), ('sleep', 'more')] \n",
    ">>> get_pairs([1])\n",
    "[]\n",
    "```"
   ]
  },
  {
   "cell_type": "code",
   "execution_count": 20,
   "metadata": {},
   "outputs": [],
   "source": [
    "from typing import Any, Tuple, List\n",
    "\n",
    "def get_pairs(lst: List[Any]) -> List[Tuple[Any, Any]]:\n",
    "    lst_pairs = [(lst[i], lst[i+1]) for i in range(len(lst)-1)]\n",
    "\n",
    "    return lst_pairs"
   ]
  },
  {
   "cell_type": "code",
   "execution_count": 21,
   "metadata": {},
   "outputs": [
    {
     "data": {
      "text/plain": [
       "[('need', 'to'), ('to', 'sleep'), ('sleep', 'more')]"
      ]
     },
     "execution_count": 21,
     "metadata": {},
     "output_type": "execute_result"
    }
   ],
   "source": [
    "get_pairs(['need', 'to', 'sleep', 'more'])"
   ]
  },
  {
   "cell_type": "markdown",
   "metadata": {},
   "source": [
    "#### Final Task 1"
   ]
  },
  {
   "cell_type": "markdown",
   "metadata": {},
   "source": [
    "Write a Python program to print all the unique values of all the dictionaries in a list.\n",
    "\n",
    "__Example__:\n",
    "```\n",
    "Input: [{\"V\":\"S001\"}, {\"V\": \"S002\"}, {\"VI\": \"S001\"}, {\"VI\": \"S005\"}, {\"VII\":\"S005\"}, {\"V\":\"S009\"},{\"VIII\":\"S007\"}]\n",
    "Output: {'S005', 'S002', 'S007', 'S001', 'S009'}"
   ]
  },
  {
   "cell_type": "code",
   "execution_count": 22,
   "metadata": {},
   "outputs": [],
   "source": [
    "from typing import Any, Dict, List, Set\n",
    "\n",
    "def check(lst: List[Dict[Any, Any]]) -> Set[Any]:\n",
    "    uniq_val = set()\n",
    "    for val in lst:\n",
    "        uniq_val = uniq_val.union(set(val.values()))\n",
    "    return uniq_val"
   ]
  },
  {
   "cell_type": "code",
   "execution_count": 23,
   "metadata": {},
   "outputs": [
    {
     "data": {
      "text/plain": [
       "True"
      ]
     },
     "execution_count": 23,
     "metadata": {},
     "output_type": "execute_result"
    }
   ],
   "source": [
    "check([\n",
    "    {\"V\":\"S001\"}, \n",
    "    {\"V\": \"S002\"}, \n",
    "    {\"VI\": \"S001\"}, \n",
    "    {\"VI\": \"S005\"}, \n",
    "    {\"VII\":\"S005\"}, \n",
    "    {\"V\":\"S009\"},\n",
    "    {\"VIII\":\"S007\"}]) == {'S005', 'S002', 'S007', 'S001', 'S009'}"
   ]
  },
  {
   "cell_type": "markdown",
   "metadata": {},
   "source": [
    "#### Final Task 2"
   ]
  },
  {
   "cell_type": "markdown",
   "metadata": {},
   "source": [
    "Write a program which makes a pretty print of a part of the multiplication table.\n",
    "\n",
    "__Example__:\n",
    "```\n",
    "Input:\n",
    "row_start = 2\n",
    "row_end = 4\n",
    "column_start = 3\n",
    "column_end = 7\n",
    "\n",
    "Output: [[6, 8, 10, 12, 14], [9, 12, 15, 18, 21], [12, 16, 20, 24, 28]]\n",
    "that is equal to the following multiplication table:\n",
    "\n",
    "    3   4   5   6   7   \n",
    "2   6   8   10  12  14  \n",
    "3   9   12  15  18  21  \n",
    "4   12  16  20  24  28"
   ]
  },
  {
   "cell_type": "code",
   "execution_count": 24,
   "metadata": {},
   "outputs": [],
   "source": [
    "from typing import List\n",
    "\n",
    "'''Return list with table line(list)'''\n",
    "def check(row_start:int, row_end:int, column_start:int, column_end:int) -> List[List[int]]:\n",
    "    table = list()\n",
    "    for x in range(row_start, row_end+1):\n",
    "        line = list()\n",
    "        y = column_start\n",
    "        while y != column_end + 1:\n",
    "            line.append(x * y)\n",
    "            y += 1\n",
    "        table.append(line)\n",
    "\n",
    "    return table\n",
    "\n",
    "\n",
    "'''Return a srt with multiplication table'''\n",
    "def pretty_print_multiplication_table(row_starts:int, row_end:int, column_start:int, column_end:int):\n",
    "    # head \n",
    "    head = '   '\n",
    "    for c in range(column_start, 10):\n",
    "        head += f'{c}   ' \n",
    "\n",
    "    # body\n",
    "    body = ''\n",
    "    for x in range(row_starts, row_end+1):\n",
    "        line = f'{x}  '\n",
    "        y = column_start\n",
    "        while y != column_end + 1:\n",
    "            line += f'{x * y}'\n",
    "            line += '   ' if len(str(x * y)) == 1 else '  '\n",
    "            y += 1 \n",
    "        body += line + '\\n'\n",
    "    \n",
    "    return head + '\\n' + body"
   ]
  },
  {
   "cell_type": "code",
   "execution_count": 25,
   "metadata": {},
   "outputs": [
    {
     "data": {
      "text/plain": [
       "[[6, 8, 10, 12, 14], [9, 12, 15, 18, 21], [12, 16, 20, 24, 28]]"
      ]
     },
     "execution_count": 25,
     "metadata": {},
     "output_type": "execute_result"
    }
   ],
   "source": [
    "check(2,4,3,7)"
   ]
  },
  {
   "cell_type": "code",
   "execution_count": 26,
   "metadata": {},
   "outputs": [
    {
     "name": "stdout",
     "output_type": "stream",
     "text": [
      "   3   4   5   6   7   8   9   \n",
      "2  6   8   10  12  14  16  18  \n",
      "3  9   12  15  18  21  24  27  \n",
      "4  12  16  20  24  28  32  36  \n",
      "\n"
     ]
    }
   ],
   "source": [
    "print(pretty_print_multiplication_table(2,4,3,9))"
   ]
  },
  {
   "cell_type": "markdown",
   "metadata": {},
   "source": [
    "#### Demo task"
   ]
  },
  {
   "cell_type": "markdown",
   "metadata": {},
   "source": [
    "Write python program to solve [quadratic equation](https://en.wikipedia.org/wiki/Quadratic_equation) \n",
    "```python\n",
    "a * x * x + b * x + c == 0 \n",
    "```\n",
    "Result should be sorted by ascential order.\n",
    "\n",
    "__Examples__:\n",
    "```python\n",
    "\n",
    ">>> solution(a=1, b=6, c=5)\n",
    "(-5, -1)\n",
    ">>> solution(a=1, b=4, c=4)\n",
    "(-2,)\n",
    ">>> solution(a=1, b=6, c=45)\n",
    "()\n",
    "```"
   ]
  },
  {
   "cell_type": "code",
   "execution_count": 27,
   "metadata": {},
   "outputs": [],
   "source": [
    "from typing import Tuple, Union\n",
    "from math import sqrt\n",
    "\n",
    "\n",
    "def solution(a, b, c) -> Union[Tuple[float, float], Tuple[float], None]:\n",
    "    discriminant = b**2 - 4*a*c\n",
    "    \n",
    "    try:\n",
    "        root1 = (-b + sqrt(discriminant)) / (2 * a)\n",
    "    except ValueError:\n",
    "        root1 = None\n",
    "\n",
    "    try:\n",
    "        root2 = (-b - sqrt(discriminant)) / (2 * a)\n",
    "    except ValueError:\n",
    "        root2 = None\n",
    "    \n",
    "    if root1 is None and root2 is None:\n",
    "        return None\n",
    "    elif root1 == root2:\n",
    "        return (root1, )\n",
    "    else:\n",
    "        return tuple(sorted((root1, root2)))"
   ]
  },
  {
   "cell_type": "code",
   "execution_count": 28,
   "metadata": {},
   "outputs": [
    {
     "data": {
      "text/plain": [
       "(-5.0, -1.0)"
      ]
     },
     "execution_count": 28,
     "metadata": {},
     "output_type": "execute_result"
    }
   ],
   "source": [
    "solution(a=1, b=6, c=5)"
   ]
  }
 ],
 "metadata": {
  "kernelspec": {
   "display_name": "Python 3",
   "language": "python",
   "name": "python3"
  },
  "language_info": {
   "codemirror_mode": {
    "name": "ipython",
    "version": 3
   },
   "file_extension": ".py",
   "mimetype": "text/x-python",
   "name": "python",
   "nbconvert_exporter": "python",
   "pygments_lexer": "ipython3",
   "version": "3.11.5"
  }
 },
 "nbformat": 4,
 "nbformat_minor": 2
}
